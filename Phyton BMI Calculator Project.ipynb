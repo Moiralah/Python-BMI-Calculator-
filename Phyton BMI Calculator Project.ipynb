{
 "cells": [
  {
   "cell_type": "code",
   "execution_count": 1,
   "id": "7ec85752",
   "metadata": {},
   "outputs": [],
   "source": [
    "# BMI CALCULATOR = (weight in kilo)/(height in M x height in M)"
   ]
  },
  {
   "cell_type": "code",
   "execution_count": 11,
   "id": "84dfdcbc",
   "metadata": {},
   "outputs": [
    {
     "name": "stdout",
     "output_type": "stream",
     "text": [
      "Masukkan berat anda dalam Kilogram : 88\n",
      "Masukkan tinggi anda dalam Meter : 1.62\n"
     ]
    },
    {
     "ename": "TypeError",
     "evalue": "can't multiply sequence by non-int of type 'str'",
     "output_type": "error",
     "traceback": [
      "\u001b[1;31m---------------------------------------------------------------------------\u001b[0m",
      "\u001b[1;31mTypeError\u001b[0m                                 Traceback (most recent call last)",
      "Cell \u001b[1;32mIn[11], line 5\u001b[0m\n\u001b[0;32m      1\u001b[0m weight \u001b[38;5;241m=\u001b[39m \u001b[38;5;28minput\u001b[39m(\u001b[38;5;124m\"\u001b[39m\u001b[38;5;124mMasukkan berat anda dalam Kilogram : \u001b[39m\u001b[38;5;124m\"\u001b[39m)\n\u001b[0;32m      3\u001b[0m height \u001b[38;5;241m=\u001b[39m \u001b[38;5;28minput\u001b[39m(\u001b[38;5;124m\"\u001b[39m\u001b[38;5;124mMasukkan tinggi anda dalam Meter : \u001b[39m\u001b[38;5;124m\"\u001b[39m)\n\u001b[1;32m----> 5\u001b[0m BMI \u001b[38;5;241m=\u001b[39m (weight) \u001b[38;5;241m/\u001b[39m (height \u001b[38;5;241m*\u001b[39m height)\n",
      "\u001b[1;31mTypeError\u001b[0m: can't multiply sequence by non-int of type 'str'"
     ]
    }
   ],
   "source": [
    "weight = input(\"Masukkan berat anda dalam Kilogram : \")\n",
    "\n",
    "height = input(\"Masukkan tinggi anda dalam Meter : \")\n",
    "\n",
    "BMI = (weight) / (height * height) # Tak Boleh Run sebab tinggi dan berat letak dalam string type\n"
   ]
  },
  {
   "cell_type": "code",
   "execution_count": 13,
   "id": "1e2356e0",
   "metadata": {},
   "outputs": [
    {
     "name": "stdout",
     "output_type": "stream",
     "text": [
      "Masukkan berat anda dalam Kilogram : 88\n",
      "Masukkan tinggi anda dalam Meter : 1.62\n"
     ]
    },
    {
     "ename": "ValueError",
     "evalue": "invalid literal for int() with base 10: '1.62'",
     "output_type": "error",
     "traceback": [
      "\u001b[1;31m---------------------------------------------------------------------------\u001b[0m",
      "\u001b[1;31mValueError\u001b[0m                                Traceback (most recent call last)",
      "Cell \u001b[1;32mIn[13], line 3\u001b[0m\n\u001b[0;32m      1\u001b[0m weight \u001b[38;5;241m=\u001b[39m \u001b[38;5;28mint\u001b[39m(\u001b[38;5;28minput\u001b[39m(\u001b[38;5;124m\"\u001b[39m\u001b[38;5;124mMasukkan berat anda dalam Kilogram : \u001b[39m\u001b[38;5;124m\"\u001b[39m))\n\u001b[1;32m----> 3\u001b[0m height \u001b[38;5;241m=\u001b[39m \u001b[38;5;28mint\u001b[39m(\u001b[38;5;28minput\u001b[39m(\u001b[38;5;124m\"\u001b[39m\u001b[38;5;124mMasukkan tinggi anda dalam Meter : \u001b[39m\u001b[38;5;124m\"\u001b[39m)) \u001b[38;5;66;03m# Sebab pakai decimal tak boleh guna integer kena guna float\u001b[39;00m\n\u001b[0;32m      5\u001b[0m BMI \u001b[38;5;241m=\u001b[39m (weight) \u001b[38;5;241m/\u001b[39m (height \u001b[38;5;241m*\u001b[39m height)\n\u001b[0;32m      7\u001b[0m \u001b[38;5;28mprint\u001b[39m(BMI)\n",
      "\u001b[1;31mValueError\u001b[0m: invalid literal for int() with base 10: '1.62'"
     ]
    }
   ],
   "source": [
    "weight = int(input(\"Masukkan berat anda dalam Kilogram : \"))\n",
    "\n",
    "height = int(input(\"Masukkan tinggi anda dalam Meter : \")) # Sebab pakai decimal tak boleh guna integer kena guna float\n",
    "\n",
    "BMI = (weight) / (height * height)\n",
    "\n",
    "print(BMI)"
   ]
  },
  {
   "cell_type": "code",
   "execution_count": null,
   "id": "1ddfefe1",
   "metadata": {},
   "outputs": [],
   "source": [
    "name = input(\"Masukkan Nama Mu : \")\n",
    "\n",
    "weight = int(input(\"Masukkan berat anda dalam Kilogram : \"))\n",
    "\n",
    "height = float(input(\"Masukkan tinggi anda dalam Meter : \")) \n",
    "\n",
    "BMI = (weight) / (height * height)\n",
    "\n",
    "print(BMI)\n"
   ]
  },
  {
   "cell_type": "code",
   "execution_count": 14,
   "id": "894567bf",
   "metadata": {},
   "outputs": [
    {
     "ename": "SyntaxError",
     "evalue": "invalid syntax (4025068182.py, line 1)",
     "output_type": "error",
     "traceback": [
      "\u001b[1;36m  Cell \u001b[1;32mIn[14], line 1\u001b[1;36m\u001b[0m\n\u001b[1;33m    < 16.0\tSeverely Underweight\u001b[0m\n\u001b[1;37m    ^\u001b[0m\n\u001b[1;31mSyntaxError\u001b[0m\u001b[1;31m:\u001b[0m invalid syntax\n"
     ]
    }
   ],
   "source": [
    "# WHO Adult BMI Categories For Reference\n",
    "\n",
    "< 16.0\tSeverely Underweight\n",
    "16.0 - 18.4\tUnderweight\n",
    "18.5 - 24.9\tNormal\n",
    "25.0 - 29.9\tOverweight\n",
    "30.0 - 34.9\tModerately Obese\n",
    "35.0 - 39.9\tSeverely Obese\n",
    "> 40.0\tMorbidly Obese\n"
   ]
  },
  {
   "cell_type": "code",
   "execution_count": 17,
   "id": "ec99d161",
   "metadata": {},
   "outputs": [
    {
     "name": "stdout",
     "output_type": "stream",
     "text": [
      "Jaga Makan Naaa\n"
     ]
    }
   ],
   "source": [
    "if BMI>0:\n",
    "    if(BMI<16.5):\n",
    "        print(\"Kuruih Ngat\")\n",
    "    elif(BMI<18.4):\n",
    "        print(\"Kuruih\")\n",
    "    elif(BMI<24.9):\n",
    "        print(\"Chanteq\")\n",
    "    elif(BMI<29.9):\n",
    "        print(\"Chanteq Sikit Je\")\n",
    "    elif(BMI<34.9):\n",
    "        print(\"Jaga Makan Naaa\")\n",
    "    elif(BMI<39.9):\n",
    "        print(\"Pi jumpa doktor jgn biaq naa\")\n",
    "    else(BMI<40.0):\n",
    "        print(\"Kena potong perut mcm Rina Harun dh ni\")\n",
    "    else:\n",
    "        print(\"Hang Manusia ke Jin?!\")\n",
    "    "
   ]
  },
  {
   "cell_type": "code",
   "execution_count": 29,
   "id": "61b6f0a8",
   "metadata": {},
   "outputs": [
    {
     "name": "stdout",
     "output_type": "stream",
     "text": [
      "Masukkan Nama Mu : moi\n",
      "Masukkan berat anda dalam Kilogram : 120\n",
      "Masukkan tinggi anda dalam Meter : 1.62\n",
      "45.72473708276176\n",
      "moi, Kena potong perut mcm Rina Harun dh ni\n"
     ]
    }
   ],
   "source": [
    "name = input(\"Masukkan Nama Mu : \")\n",
    "\n",
    "weight = int(input(\"Masukkan berat anda dalam Kilogram : \"))\n",
    "\n",
    "height = float(input(\"Masukkan tinggi anda dalam Meter : \")) \n",
    "\n",
    "BMI = (weight) / (height * height)\n",
    "\n",
    "print(BMI)\n",
    "\n",
    "if BMI>0:\n",
    "    if(BMI<16.5):\n",
    "        print(name + \", Kuruih Ngat\")\n",
    "    elif(BMI<18.4):\n",
    "        print(name + \", Kuruih\")\n",
    "    elif(BMI<24.9):\n",
    "        print(name + \", Chanteq\")\n",
    "    elif(BMI<29.9):\n",
    "        print(name + \", Chanteq Sikit Je\")\n",
    "    elif(BMI<34.9):\n",
    "        print(name + \", Jaga Makan Naaa\")\n",
    "    elif(BMI<39.9):\n",
    "        print(name + \", Pi jumpa doktor jgn biaq\")\n",
    "    else:\n",
    "        print(name + \", Kena potong perut mcm Rina Harun dh ni\")\n"
   ]
  },
  {
   "cell_type": "code",
   "execution_count": null,
   "id": "790d8e7c",
   "metadata": {},
   "outputs": [],
   "source": []
  }
 ],
 "metadata": {
  "kernelspec": {
   "display_name": "Python 3 (ipykernel)",
   "language": "python",
   "name": "python3"
  },
  "language_info": {
   "codemirror_mode": {
    "name": "ipython",
    "version": 3
   },
   "file_extension": ".py",
   "mimetype": "text/x-python",
   "name": "python",
   "nbconvert_exporter": "python",
   "pygments_lexer": "ipython3",
   "version": "3.11.4"
  }
 },
 "nbformat": 4,
 "nbformat_minor": 5
}
